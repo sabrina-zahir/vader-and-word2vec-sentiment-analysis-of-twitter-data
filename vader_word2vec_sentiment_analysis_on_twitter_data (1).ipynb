{
  "nbformat": 4,
  "nbformat_minor": 0,
  "metadata": {
    "colab": {
      "name": "vader_word2vec_sentiment_analysis_on_twitter_data.ipynb",
      "provenance": [],
      "collapsed_sections": []
    },
    "kernelspec": {
      "name": "python3",
      "display_name": "Python 3"
    },
    "language_info": {
      "name": "python"
    }
  },
  "cells": [
    {
      "cell_type": "code",
      "metadata": {
        "id": "SCJleviMcxwF"
      },
      "source": [
        "import pandas as pd\n",
        "import matplotlib.pyplot as plt\n",
        "import seaborn as sns\n",
        "import numpy as np;\n",
        "import matplotlib.pyplot as plt;\n",
        "import seaborn as sns;\n",
        "from sklearn.metrics import accuracy_score,classification_report,confusion_matrix\n",
        "import re"
      ],
      "execution_count": 1,
      "outputs": []
    },
    {
      "cell_type": "code",
      "metadata": {
        "colab": {
          "base_uri": "https://localhost:8080/"
        },
        "id": "2YiNqOn5dJ1m",
        "outputId": "2eda5cce-67c7-4854-8ac9-c60b7f5a9e98"
      },
      "source": [
        " #!pip install twython"
      ],
      "execution_count": 3,
      "outputs": [
        {
          "output_type": "stream",
          "name": "stdout",
          "text": [
            "Collecting twython\n",
            "  Downloading twython-3.9.1-py3-none-any.whl (33 kB)\n",
            "Requirement already satisfied: requests>=2.1.0 in /usr/local/lib/python3.7/dist-packages (from twython) (2.23.0)\n",
            "Requirement already satisfied: requests-oauthlib>=0.4.0 in /usr/local/lib/python3.7/dist-packages (from twython) (1.3.0)\n",
            "Requirement already satisfied: chardet<4,>=3.0.2 in /usr/local/lib/python3.7/dist-packages (from requests>=2.1.0->twython) (3.0.4)\n",
            "Requirement already satisfied: urllib3!=1.25.0,!=1.25.1,<1.26,>=1.21.1 in /usr/local/lib/python3.7/dist-packages (from requests>=2.1.0->twython) (1.24.3)\n",
            "Requirement already satisfied: idna<3,>=2.5 in /usr/local/lib/python3.7/dist-packages (from requests>=2.1.0->twython) (2.10)\n",
            "Requirement already satisfied: certifi>=2017.4.17 in /usr/local/lib/python3.7/dist-packages (from requests>=2.1.0->twython) (2021.5.30)\n",
            "Requirement already satisfied: oauthlib>=3.0.0 in /usr/local/lib/python3.7/dist-packages (from requests-oauthlib>=0.4.0->twython) (3.1.1)\n",
            "Installing collected packages: twython\n",
            "Successfully installed twython-3.9.1\n"
          ]
        }
      ]
    },
    {
      "cell_type": "code",
      "metadata": {
        "id": "ZPKmP3NVc8At"
      },
      "source": [
        "import nltk\n",
        "from nltk.sentiment.vader import SentimentIntensityAnalyzer\n"
      ],
      "execution_count": 4,
      "outputs": []
    },
    {
      "cell_type": "markdown",
      "metadata": {
        "id": "MGTx_RCtCb3w"
      },
      "source": [
        "dataset\n",
        "https://www.kaggle.com/kazanova/sentiment140"
      ]
    },
    {
      "cell_type": "code",
      "metadata": {
        "colab": {
          "base_uri": "https://localhost:8080/"
        },
        "id": "F5SQ-gtWeLzl",
        "outputId": "f7911f2b-f785-428d-d5d1-2dc538592145"
      },
      "source": [
        "from google.colab import drive\n",
        "drive.mount(\"/content/gdrive\")"
      ],
      "execution_count": 113,
      "outputs": [
        {
          "output_type": "stream",
          "name": "stdout",
          "text": [
            "Drive already mounted at /content/gdrive; to attempt to forcibly remount, call drive.mount(\"/content/gdrive\", force_remount=True).\n"
          ]
        }
      ]
    },
    {
      "cell_type": "code",
      "metadata": {
        "id": "xc6--HQQm0on"
      },
      "source": [
        "df= pd.read_csv('/content/gdrive/MyDrive/project dataset/training.1600000.processed.noemoticon.csv', encoding=('ISO-8859-1'),low_memory=False)"
      ],
      "execution_count": 154,
      "outputs": []
    },
    {
      "cell_type": "code",
      "metadata": {
        "colab": {
          "base_uri": "https://localhost:8080/"
        },
        "id": "0kbbZ-8kfG5P",
        "outputId": "e0e7c7d0-8028-4270-feb1-319a03d34916"
      },
      "source": [
        "nltk.download('vader_lexicon')"
      ],
      "execution_count": 155,
      "outputs": [
        {
          "output_type": "stream",
          "name": "stdout",
          "text": [
            "[nltk_data] Downloading package vader_lexicon to /root/nltk_data...\n",
            "[nltk_data]   Package vader_lexicon is already up-to-date!\n"
          ]
        },
        {
          "output_type": "execute_result",
          "data": {
            "text/plain": [
              "True"
            ]
          },
          "metadata": {},
          "execution_count": 155
        }
      ]
    },
    {
      "cell_type": "code",
      "metadata": {
        "colab": {
          "base_uri": "https://localhost:8080/"
        },
        "id": "XJmoIqnngskt",
        "outputId": "f60b18b0-68df-42e3-e5ef-889b0b1568bd"
      },
      "source": [
        "df.dtypes"
      ],
      "execution_count": 156,
      "outputs": [
        {
          "output_type": "execute_result",
          "data": {
            "text/plain": [
              "0                                                                                                                       int64\n",
              "1467810369                                                                                                              int64\n",
              "Mon Apr 06 22:19:45 PDT 2009                                                                                           object\n",
              "NO_QUERY                                                                                                               object\n",
              "_TheSpecialOne_                                                                                                        object\n",
              "@switchfoot http://twitpic.com/2y1zl - Awww, that's a bummer.  You shoulda got David Carr of Third Day to do it. ;D    object\n",
              "dtype: object"
            ]
          },
          "metadata": {},
          "execution_count": 156
        }
      ]
    },
    {
      "cell_type": "code",
      "metadata": {
        "id": "Oxi6spuipfnY"
      },
      "source": [
        "df = df.drop(['1467810369', 'Mon Apr 06 22:19:45 PDT 2009', 'NO_QUERY', '_TheSpecialOne_'],axis=1)"
      ],
      "execution_count": 157,
      "outputs": []
    },
    {
      "cell_type": "code",
      "metadata": {
        "id": "05_YanhEpiya"
      },
      "source": [
        "df = df.rename(columns={'0':'sentiment', \n",
        "                            \"@switchfoot http://twitpic.com/2y1zl - Awww, that's a bummer.  You shoulda got David Carr of Third Day to do it. ;D\":'text'})"
      ],
      "execution_count": 158,
      "outputs": []
    },
    {
      "cell_type": "code",
      "metadata": {
        "id": "GpSPLj7Jpnms"
      },
      "source": [
        "df['sentiment'] = df['sentiment'].replace(4,1)"
      ],
      "execution_count": 159,
      "outputs": []
    },
    {
      "cell_type": "markdown",
      "metadata": {
        "id": "O9vifUVY2s5B"
      },
      "source": [
        "# PREPROCESSING"
      ]
    },
    {
      "cell_type": "code",
      "metadata": {
        "colab": {
          "base_uri": "https://localhost:8080/",
          "height": 205
        },
        "id": "SkfeZvZWpp6O",
        "outputId": "588ad84a-3ba0-4cda-f59b-72811448b5da"
      },
      "source": [
        "from sklearn.utils import shuffle\n",
        "df = shuffle(df)\n",
        "df.head()"
      ],
      "execution_count": 160,
      "outputs": [
        {
          "output_type": "execute_result",
          "data": {
            "text/html": [
              "<div>\n",
              "<style scoped>\n",
              "    .dataframe tbody tr th:only-of-type {\n",
              "        vertical-align: middle;\n",
              "    }\n",
              "\n",
              "    .dataframe tbody tr th {\n",
              "        vertical-align: top;\n",
              "    }\n",
              "\n",
              "    .dataframe thead th {\n",
              "        text-align: right;\n",
              "    }\n",
              "</style>\n",
              "<table border=\"1\" class=\"dataframe\">\n",
              "  <thead>\n",
              "    <tr style=\"text-align: right;\">\n",
              "      <th></th>\n",
              "      <th>sentiment</th>\n",
              "      <th>text</th>\n",
              "    </tr>\n",
              "  </thead>\n",
              "  <tbody>\n",
              "    <tr>\n",
              "      <th>878236</th>\n",
              "      <td>1</td>\n",
              "      <td>@chanel_amil lol same shittt ur a realllll cut...</td>\n",
              "    </tr>\n",
              "    <tr>\n",
              "      <th>963298</th>\n",
              "      <td>1</td>\n",
              "      <td>@michelegera remember at least an hat</td>\n",
              "    </tr>\n",
              "    <tr>\n",
              "      <th>452605</th>\n",
              "      <td>0</td>\n",
              "      <td>AH FLY WITH ME WAS AMAZING ... i cannot wait t...</td>\n",
              "    </tr>\n",
              "    <tr>\n",
              "      <th>247777</th>\n",
              "      <td>0</td>\n",
              "      <td>@Roadrippersid motherboard is dead.</td>\n",
              "    </tr>\n",
              "    <tr>\n",
              "      <th>547180</th>\n",
              "      <td>0</td>\n",
              "      <td>@LaurenConrad I'm sad your Saturday Naperville...</td>\n",
              "    </tr>\n",
              "  </tbody>\n",
              "</table>\n",
              "</div>"
            ],
            "text/plain": [
              "        sentiment                                               text\n",
              "878236          1  @chanel_amil lol same shittt ur a realllll cut...\n",
              "963298          1             @michelegera remember at least an hat \n",
              "452605          0  AH FLY WITH ME WAS AMAZING ... i cannot wait t...\n",
              "247777          0               @Roadrippersid motherboard is dead. \n",
              "547180          0  @LaurenConrad I'm sad your Saturday Naperville..."
            ]
          },
          "metadata": {},
          "execution_count": 160
        }
      ]
    },
    {
      "cell_type": "code",
      "metadata": {
        "id": "OE57xjdr_pUx"
      },
      "source": [
        "sid = SentimentIntensityAnalyzer()\n",
        "df['scores'] = df['text'].apply(lambda x:sid.polarity_scores(x))"
      ],
      "execution_count": 162,
      "outputs": []
    },
    {
      "cell_type": "code",
      "metadata": {
        "id": "2uD25Wos_vU1"
      },
      "source": [
        "df['compound'] = df['scores'].apply(lambda x:x['compound'])"
      ],
      "execution_count": 163,
      "outputs": []
    },
    {
      "cell_type": "code",
      "metadata": {
        "id": "59LhV0Xm_xrd"
      },
      "source": [
        "df['comp_score'] = df['compound'].apply(lambda score: '1' if score>=0 else '0')"
      ],
      "execution_count": 164,
      "outputs": []
    },
    {
      "cell_type": "code",
      "metadata": {
        "colab": {
          "base_uri": "https://localhost:8080/",
          "height": 205
        },
        "id": "iYQkALMr_0nW",
        "outputId": "9fe757b8-0f53-4a79-e12d-c72899375bf6"
      },
      "source": [
        "df.head()"
      ],
      "execution_count": 165,
      "outputs": [
        {
          "output_type": "execute_result",
          "data": {
            "text/html": [
              "<div>\n",
              "<style scoped>\n",
              "    .dataframe tbody tr th:only-of-type {\n",
              "        vertical-align: middle;\n",
              "    }\n",
              "\n",
              "    .dataframe tbody tr th {\n",
              "        vertical-align: top;\n",
              "    }\n",
              "\n",
              "    .dataframe thead th {\n",
              "        text-align: right;\n",
              "    }\n",
              "</style>\n",
              "<table border=\"1\" class=\"dataframe\">\n",
              "  <thead>\n",
              "    <tr style=\"text-align: right;\">\n",
              "      <th></th>\n",
              "      <th>sentiment</th>\n",
              "      <th>text</th>\n",
              "      <th>scores</th>\n",
              "      <th>compound</th>\n",
              "      <th>comp_score</th>\n",
              "    </tr>\n",
              "  </thead>\n",
              "  <tbody>\n",
              "    <tr>\n",
              "      <th>878236</th>\n",
              "      <td>1</td>\n",
              "      <td>@chanel_amil lol same shittt ur a realllll cut...</td>\n",
              "      <td>{'neg': 0.0, 'neu': 0.682, 'pos': 0.318, 'comp...</td>\n",
              "      <td>0.4215</td>\n",
              "      <td>1</td>\n",
              "    </tr>\n",
              "    <tr>\n",
              "      <th>963298</th>\n",
              "      <td>1</td>\n",
              "      <td>@michelegera remember at least an hat</td>\n",
              "      <td>{'neg': 0.0, 'neu': 1.0, 'pos': 0.0, 'compound...</td>\n",
              "      <td>0.0000</td>\n",
              "      <td>1</td>\n",
              "    </tr>\n",
              "    <tr>\n",
              "      <th>452605</th>\n",
              "      <td>0</td>\n",
              "      <td>AH FLY WITH ME WAS AMAZING ... i cannot wait t...</td>\n",
              "      <td>{'neg': 0.0, 'neu': 0.779, 'pos': 0.221, 'comp...</td>\n",
              "      <td>0.7284</td>\n",
              "      <td>1</td>\n",
              "    </tr>\n",
              "    <tr>\n",
              "      <th>247777</th>\n",
              "      <td>0</td>\n",
              "      <td>@Roadrippersid motherboard is dead.</td>\n",
              "      <td>{'neg': 0.589, 'neu': 0.411, 'pos': 0.0, 'comp...</td>\n",
              "      <td>-0.6486</td>\n",
              "      <td>0</td>\n",
              "    </tr>\n",
              "    <tr>\n",
              "      <th>547180</th>\n",
              "      <td>0</td>\n",
              "      <td>@LaurenConrad I'm sad your Saturday Naperville...</td>\n",
              "      <td>{'neg': 0.162, 'neu': 0.838, 'pos': 0.0, 'comp...</td>\n",
              "      <td>-0.4767</td>\n",
              "      <td>0</td>\n",
              "    </tr>\n",
              "  </tbody>\n",
              "</table>\n",
              "</div>"
            ],
            "text/plain": [
              "        sentiment  ... comp_score\n",
              "878236          1  ...          1\n",
              "963298          1  ...          1\n",
              "452605          0  ...          1\n",
              "247777          0  ...          0\n",
              "547180          0  ...          0\n",
              "\n",
              "[5 rows x 5 columns]"
            ]
          },
          "metadata": {},
          "execution_count": 165
        }
      ]
    },
    {
      "cell_type": "code",
      "metadata": {
        "id": "D48HQyTt_6Hf"
      },
      "source": [
        "df['comp_score']=df['comp_score'].astype(str).astype(int)"
      ],
      "execution_count": 166,
      "outputs": []
    },
    {
      "cell_type": "code",
      "metadata": {
        "colab": {
          "base_uri": "https://localhost:8080/"
        },
        "id": "2SJq1pvDADKM",
        "outputId": "c271adfb-4173-44dc-e552-018a46b7636c"
      },
      "source": [
        "from sklearn.metrics import accuracy_score,classification_report,confusion_matrix\n",
        "accuracy_score(df['sentiment'],df['comp_score'])"
      ],
      "execution_count": 167,
      "outputs": [
        {
          "output_type": "execute_result",
          "data": {
            "text/plain": [
              "0.6612010382506489"
            ]
          },
          "metadata": {},
          "execution_count": 167
        }
      ]
    },
    {
      "cell_type": "code",
      "metadata": {
        "colab": {
          "base_uri": "https://localhost:8080/"
        },
        "id": "sRfokY0-AIBC",
        "outputId": "afa53283-071b-4d0b-e35a-e0c339d3b667"
      },
      "source": [
        "print(confusion_matrix(df['sentiment'],df['comp_score']))"
      ],
      "execution_count": 168,
      "outputs": [
        {
          "output_type": "stream",
          "name": "stdout",
          "text": [
            "[[339518 460481]\n",
            " [ 81597 718403]]\n"
          ]
        }
      ]
    },
    {
      "cell_type": "code",
      "metadata": {
        "id": "DMwrYPPFpsbw"
      },
      "source": [
        "df=df.applymap(lambda s : s.lower() if type(s)== str else s)"
      ],
      "execution_count": 122,
      "outputs": []
    },
    {
      "cell_type": "code",
      "metadata": {
        "id": "Ys3Y4NjPpuub"
      },
      "source": [
        "def remove_username(text):\n",
        "  username = re.finditer('@' + r'[A-Za-z0-9\\w]*', text)\n",
        "  for i in username:\n",
        "        text = re.sub(i.group().strip(), '', text)\n",
        "  return text.strip()\n",
        "df['removed_username'] = df['text'].apply(lambda x: remove_username(x))"
      ],
      "execution_count": 123,
      "outputs": []
    },
    {
      "cell_type": "code",
      "metadata": {
        "id": "XXjqRXI6pxoh"
      },
      "source": [
        "import string as st\n",
        "def remove_punct(text):\n",
        "    return (\"\".join([ch for ch in text if ch not in st.punctuation]))\n",
        "df['removed_punc'] = df['removed_username'].apply(lambda x: remove_punct(x)) "
      ],
      "execution_count": 124,
      "outputs": []
    },
    {
      "cell_type": "code",
      "metadata": {
        "colab": {
          "base_uri": "https://localhost:8080/",
          "height": 422
        },
        "id": "vt_wTALvp1Vt",
        "outputId": "89caf802-da74-44ad-fdff-ae90305da9dd"
      },
      "source": [
        "df.drop(['removed_username'],axis=1)"
      ],
      "execution_count": 125,
      "outputs": [
        {
          "output_type": "execute_result",
          "data": {
            "text/html": [
              "<div>\n",
              "<style scoped>\n",
              "    .dataframe tbody tr th:only-of-type {\n",
              "        vertical-align: middle;\n",
              "    }\n",
              "\n",
              "    .dataframe tbody tr th {\n",
              "        vertical-align: top;\n",
              "    }\n",
              "\n",
              "    .dataframe thead th {\n",
              "        text-align: right;\n",
              "    }\n",
              "</style>\n",
              "<table border=\"1\" class=\"dataframe\">\n",
              "  <thead>\n",
              "    <tr style=\"text-align: right;\">\n",
              "      <th></th>\n",
              "      <th>sentiment</th>\n",
              "      <th>text</th>\n",
              "      <th>removed_punc</th>\n",
              "    </tr>\n",
              "  </thead>\n",
              "  <tbody>\n",
              "    <tr>\n",
              "      <th>1554072</th>\n",
              "      <td>1</td>\n",
              "      <td>prins9205just voted for @ddlovato @jonasbrothe...</td>\n",
              "      <td>prins9205just voted for   and for frankie awww...</td>\n",
              "    </tr>\n",
              "    <tr>\n",
              "      <th>1232880</th>\n",
              "      <td>1</td>\n",
              "      <td>a pheww, it's fine now</td>\n",
              "      <td>a pheww its fine now</td>\n",
              "    </tr>\n",
              "    <tr>\n",
              "      <th>1167114</th>\n",
              "      <td>1</td>\n",
              "      <td>pampering myself before i have to suffer(kinda...</td>\n",
              "      <td>pampering myself before i have to sufferkinda ...</td>\n",
              "    </tr>\n",
              "    <tr>\n",
              "      <th>1304252</th>\n",
              "      <td>1</td>\n",
              "      <td>lina is talking about her just-born cousin</td>\n",
              "      <td>lina is talking about her justborn cousin</td>\n",
              "    </tr>\n",
              "    <tr>\n",
              "      <th>541595</th>\n",
              "      <td>0</td>\n",
              "      <td>my laptop is gone</td>\n",
              "      <td>my laptop is gone</td>\n",
              "    </tr>\n",
              "    <tr>\n",
              "      <th>...</th>\n",
              "      <td>...</td>\n",
              "      <td>...</td>\n",
              "      <td>...</td>\n",
              "    </tr>\n",
              "    <tr>\n",
              "      <th>568744</th>\n",
              "      <td>0</td>\n",
              "      <td>@missdevon it was definitely nice seein her an...</td>\n",
              "      <td>it was definitely nice seein her and havin her...</td>\n",
              "    </tr>\n",
              "    <tr>\n",
              "      <th>1092100</th>\n",
              "      <td>1</td>\n",
              "      <td>awake and on the go already!!!  no sleep once ...</td>\n",
              "      <td>awake and on the go already  no sleep once aga...</td>\n",
              "    </tr>\n",
              "    <tr>\n",
              "      <th>1109719</th>\n",
              "      <td>1</td>\n",
              "      <td>just woke up......work in a little bit -_- but...</td>\n",
              "      <td>just woke upwork in a little bit  but luckily ...</td>\n",
              "    </tr>\n",
              "    <tr>\n",
              "      <th>487176</th>\n",
              "      <td>0</td>\n",
              "      <td>sad ....school ended ..... and i miss it and a...</td>\n",
              "      <td>sad school ended  and i miss it and all my fri...</td>\n",
              "    </tr>\n",
              "    <tr>\n",
              "      <th>1211499</th>\n",
              "      <td>1</td>\n",
              "      <td>now kings of leon are playing use somebody</td>\n",
              "      <td>now kings of leon are playing use somebody</td>\n",
              "    </tr>\n",
              "  </tbody>\n",
              "</table>\n",
              "<p>1599999 rows × 3 columns</p>\n",
              "</div>"
            ],
            "text/plain": [
              "         sentiment  ...                                       removed_punc\n",
              "1554072          1  ...  prins9205just voted for   and for frankie awww...\n",
              "1232880          1  ...                               a pheww its fine now\n",
              "1167114          1  ...  pampering myself before i have to sufferkinda ...\n",
              "1304252          1  ...          lina is talking about her justborn cousin\n",
              "541595           0  ...                                  my laptop is gone\n",
              "...            ...  ...                                                ...\n",
              "568744           0  ...  it was definitely nice seein her and havin her...\n",
              "1092100          1  ...  awake and on the go already  no sleep once aga...\n",
              "1109719          1  ...  just woke upwork in a little bit  but luckily ...\n",
              "487176           0  ...  sad school ended  and i miss it and all my fri...\n",
              "1211499          1  ...         now kings of leon are playing use somebody\n",
              "\n",
              "[1599999 rows x 3 columns]"
            ]
          },
          "metadata": {},
          "execution_count": 125
        }
      ]
    },
    {
      "cell_type": "code",
      "metadata": {
        "id": "C05LlpW_uWVD"
      },
      "source": [
        "s_df = {\n",
        "    'awsm': 'awesome',\n",
        "    \"aamof\": \"as a matter of fact\",\n",
        "    \"abt\": \"about\",\n",
        "    \"abt2\": \"about to\",\n",
        "    \"ac\": \"air conditioning\",\n",
        "    \"ace\": \"solo winner\",\n",
        "    \"ack\": \"acknowledged\",\n",
        "    \"admin\": \"administrator\",\n",
        "    \"thr\": \"there\",\n",
        "    \"frm\": \"from\",\n",
        "    \"aggro\": \"aggression\",\n",
        "    \"agl\": \"angel\",\n",
        "    \"dob\": \"date of birth\",\n",
        "    \"ai\": \"artificial intelligence\",\n",
        "    \"aiic\": \"as if i care\",\n",
        "    \"aka\": \"also known as\",\n",
        "    \"alap\": \"as long as possible\",\n",
        "    \"alol\": \"actually laughing out loud\",\n",
        "    \"ama\": \"ask me anything\",\n",
        "    \"amap\": \"as much as possible\",\n",
        "    \"amazn\": \"amazing\",\n",
        "    \"ammo\": \"ammunition\",\n",
        "    \"ams\": \"ask me something\",\n",
        "    \"anon\": \"anonymous\",\n",
        "    \"asap\": \"as soon as possible\",\n",
        "    \"asat\": \"as simple as that\",\n",
        "    \"awks\": \"awkward\",\n",
        "    \"awl\": \"always with love\",\n",
        "    \"ayk\": \"as you know\",\n",
        "    \"azm\": \"awesome\",\n",
        "    \"b\": \"be\",\n",
        "    \"b&w\": \"black and white\",\n",
        "    \"b-day\": \"birthday\",\n",
        "    \"bday\": \"birthday\",\n",
        "    \"bcoz\": \"because\",\n",
        "    \"bcos\": \"because\",\n",
        "    \"bcz\": \"because\",\n",
        "    \"bf\": \"boyfriend\",\n",
        "    \"btw\": \"between\",\n",
        "    \"b4\": \"before\",\n",
        "    \"bai\": \"bye\",\n",
        "    \"bb\": \"bye bye\",\n",
        "    \"bc\": \"abuse\",\n",
        "    \"mc\": \"abuse\",\n",
        "    \"bcc\": \"blind carbon copy\",\n",
        "    \"bff\": \"best friends forever\",\n",
        "    \"biz\": \"business\",\n",
        "    \"bk\": \"back\",\n",
        "    \"bo\": \"back off\",\n",
        "    \"bro\": \"brother\",\n",
        "    \"btwn\": \"between\",\n",
        "    \"c\": \"see\",\n",
        "    \"char\": \"character\",\n",
        "    \"combo\": \"combination\",\n",
        "    \"cu\": \"see you\",\n",
        "    \"cu2\": \"see you too\",\n",
        "    \"cu2mr\": \"see you tomorrow\",\n",
        "    \"cya\": \"see ya\",\n",
        "    \"cyal8r\": \"see you later\",\n",
        "    \"cyb\": \"call you back\",\n",
        "    \"cye\": \"check your e-mail\",\n",
        "    \"cyf\": \"check your facebook\",\n",
        "    \"cyfb\": \"check your facebook\",\n",
        "    \"cyl\": \"catch ya later\",\n",
        "    \"cym\": \"check your myspace\",\n",
        "    \"cyo\": \"see you online\",\n",
        "    \"d8\": \"date\",\n",
        "    \"da\": \"the\",\n",
        "    \"dece\": \"decent\",\n",
        "    \"ded\": \"dead\",\n",
        "    \"dept\": \"department\",\n",
        "    \"dis\": \"this\",\n",
        "    \"ditto\": \"same\",\n",
        "    \"diva\": \"rude woman\",\n",
        "    \"dk\": \"don't know\",\n",
        "    \"dlm\": \"don't leave me\",\n",
        "    \"dm\": \"direct message\",\n",
        "    \"dnd\": \"do not disturb\",\n",
        "    \"dno\": \"don't know\",\n",
        "    \"dnt\": \"don't\",\n",
        "    \"e1\": \"everyone\",\n",
        "    \"eg\": \"for example\",\n",
        "    \"emc2\": \"genius\",\n",
        "    \"emo\": \"emotional\",\n",
        "    \"enuf\": \"enough\",\n",
        "    \"eod\": \"end of discussion\",\n",
        "    \"eof\": \"end of file\",\n",
        "    \"eom\": \"end of message\",\n",
        "    \"eta\": \"estimated time of arrival\",\n",
        "    \"every1\": \"everyone\",\n",
        "    \"evs\": \"whatever\",\n",
        "    \"exp\": \"experience\",\n",
        "    \"f\": \"female\",\n",
        "    \"f2f\": \"face to face\",\n",
        "    \"f2p\": \"free to play\",\n",
        "    \"f2t\": \"free to talk\",\n",
        "    \"f9\": \"fine\",\n",
        "    \"fab\": \"fabulous\",\n",
        "    \"fail\": \"failure\",\n",
        "    \"faq\": \"frequently asked questions\",\n",
        "    \"fav\": \"favorite\",\n",
        "    \"fave\": \"favorite\",\n",
        "    \"favs\": \"favorites\",\n",
        "    \"fb\": \"facebook\",\n",
        "    \"fbc\": \"facebook chat\",\n",
        "    \"fbf\": \"facebook friend\",\n",
        "    \"fml\": \"family\",\n",
        "    \"fn\": \"fine\",\n",
        "    \"fo\": \"freaking out\",\n",
        "    \"fri\": \"friday\",\n",
        "    \"frnd\": \"friend\",\n",
        "    \"fu\": \"fuck you\",\n",
        "    \"fugly\": \"fucking ugly\",\n",
        "    \"gf\": \"girlfriend\",\n",
        "    \"g1\": \"good one\",\n",
        "    \"g2b\": \"going to bed\",\n",
        "    \"g2cu\": \"good to see you\",\n",
        "    \"g2g\": \"good to go\",\n",
        "    \"g4i\": \"go for it\",\n",
        "    \"g4n\": \"good for nothing\",\n",
        "    \"g4u\": \"good for you\",\n",
        "    \"g9\": \"goodnight\",\n",
        "    \"ga\": \"go ahead\",\n",
        "    \"ge\": \"good evening\",\n",
        "    \"gl\": \"good luck\",\n",
        "    \"gm\": \"good morning\",\n",
        "    \"gn\": \"goodnight\",\n",
        "    \"gonna\": \"going to\",\n",
        "    \"goon\": \"idiot\",\n",
        "    \"gorge\": \"gorgeous\",\n",
        "    \"gr8\": \"great\",\n",
        "    \"grats\": \"congratulations\",\n",
        "    \"gratz\": \"congratulations\",\n",
        "    \"grl\": \"girl\",\n",
        "    \"gt2t\": \"got time to talk\",\n",
        "    \"gtg\": \"good to go\",\n",
        "    \"gud\": \"good\",\n",
        "    \"gv\": \"give\",\n",
        "    \"gvn\": \"given\",\n",
        "    \"gw\": \"good work\",\n",
        "    \"h/o\": \"hold on\",\n",
        "    \"h/p\": \"hold please\",\n",
        "    \"h/t\": \"hat tip\",\n",
        "    \"h/u\": \"hook up\",\n",
        "    \"h2cus\": \"hope to see you soon\",\n",
        "    \"h4u\": \"hot for you\",\n",
        "    \"h4x0r\": \"hacker\",\n",
        "    \"h4x0rz\": \"hackers\",\n",
        "    \"h8\": \"hate\",\n",
        "    \"h8r\": \"hater\",\n",
        "    \"h8t\": \"hate\",\n",
        "    \"ha\": \"hello again\",\n",
        "    \"haha\": \"laughing\",\n",
        "    \"hai\": \"hi\",\n",
        "    \"hak\": \"hugs and kisses\",\n",
        "    \"han\": \"how about now?\",\n",
        "    \"hav\": \"have\",\n",
        "    \"hax\": \"hacks\",\n",
        "    \"haxor\": \"hacker\",\n",
        "    \"hay\": \"how are you\",\n",
        "    \"hb2u\": \"happy birthday to you\",\n",
        "    \"hbbd\": \"happy belated birthday\",\n",
        "    \"hbd\": \"happy birthday\",\n",
        "    \"hc\": \"how cool\",\n",
        "    \"hcit\": \"how cool is that\",\n",
        "    \"hehe\": \"laughing\",\n",
        "    \"hf\": \"have fun\",\n",
        "    \"hi5\": \"high five\",\n",
        "    \"hig\": \"how's it going?\",\n",
        "    \"hih\": \"hope it helps\",\n",
        "    \"ho\": \"hold on\",\n",
        "    \"hoc\": \"house of cards\",\n",
        "    \"hof\": \"hall of fame\",\n",
        "    \"holla\": \"holler\",\n",
        "    \"hom\": \"hit or miss\",\n",
        "    \"hood\": \"neighborhood\",\n",
        "    \"hoops\": \"basketball\",\n",
        "    \"hottie\": \"attractive person\",\n",
        "    \"hr\": \"human resources\",\n",
        "    \"hru\": \"how are you\",\n",
        "    \"hry\": \"hurry\",\n",
        "    \"hubby\": \"husband\",\n",
        "    \"hwk\": \"homework\",\n",
        "    \"hwp\": \"height weight proportionate\",\n",
        "    \"hwu\": \"hey, what's up?\",\n",
        "    \"hxc\": \"hardcore\",\n",
        "    \"h^\": \"hook up\",\n",
        "    \"i8\": \"i ate\",\n",
        "    \"i8u\": \"i hate you\",\n",
        "    \"ia\": \"i agree\",\n",
        "    \"iab\": \"in a bit\",\n",
        "    \"iac\": \"in any case\",\n",
        "    \"iad\": \"it all depends\",\n",
        "    \"iae\": \"in any event\",\n",
        "    \"iag\": \"it's all good\",\n",
        "    \"iagw\": \"in a good way\",\n",
        "    \"iail\": \"i am in love\",\n",
        "    \"iam\": \"in a minute\",\n",
        "    \"ic\": \"i see\",\n",
        "    \"id10t\": \"idiot\",\n",
        "    \"idc\": \"i don't care\",\n",
        "    \"idd\": \"indeed\",\n",
        "    \"idi\": \"i doubt it\",\n",
        "    \"idk\": \"i don't know\",\n",
        "    \"idky\": \"i don't know why\",\n",
        "    \"idmb\": \"i'll do my best\",\n",
        "    \"idn\": \"i don't know\",\n",
        "    \"idnk\": \"i do not know\",\n",
        "    \"idr\": \"i don't remember\",\n",
        "    \"idt\": \"i don't think\",\n",
        "    \"idts\": \"i don't think so\",\n",
        "    \"idtt\": \"i'll drink to that\",\n",
        "    \"idu\": \"i don't understand\",\n",
        "    \"ie\": \"that is\",\n",
        "    \"ig2p\": \"i got to pee\",\n",
        "    \"iggy\": \"ignored\",\n",
        "    \"ight\": \"alright\",\n",
        "    \"igi\": \"i get it\",\n",
        "    \"ign\": \"in-game name\",\n",
        "    \"igtp\": \"i get the point\",\n",
        "    \"ih8u\": \"i hate you\",\n",
        "    \"ihu\": \"i hate you\",\n",
        "    \"ihy\": \"i hate you\",\n",
        "    \"ii\": \"i'm impressed\",\n",
        "    \"iiok\": \"if i only knew\",\n",
        "    \"iir\": \"if i remember\",\n",
        "    \"iirc\": \"if i remember correctly\",\n",
        "    \"iit\": \"i'm impressed too\",\n",
        "    \"iiuc\": \"if i understand correctly\",\n",
        "    \"ik\": \"i know\",\n",
        "    \"ikhyf\": \"i know how you feel\",\n",
        "    \"ikr\": \"i know, right?\",\n",
        "    \"ikwum\": \"i know what you mean\",\n",
        "    \"ikwym\": \"i know what you mean\",\n",
        "    \"ikyd\": \"i know you did\",\n",
        "    \"ilu\": \"i like you\",\n",
        "    \"ilu2\": \"i love you too\",\n",
        "    \"ilub\": \"i love you baby\",\n",
        "    \"ilyk\": \"i'll let you know\",\n",
        "    \"ilyl\": \"i love you lots\",\n",
        "    \"ilysm\": \"i love you so much\",\n",
        "    \"ima\": \"i'm\",\n",
        "    \"imma\": \"i'm gonna\",\n",
        "    \"imo\": \"in my opinion\",\n",
        "    \"imy\": \"i miss you\",\n",
        "    \"inb4\": \"in before\",\n",
        "    \"inc\": \"incoming\",\n",
        "    \"indie\": \"independent\",\n",
        "    \"info\": \"information\",\n",
        "    \"init\": \"initialize\",\n",
        "    \"ipo\": \"initial public offering\",\n",
        "    \"ir\": \"in room\",\n",
        "    \"ir8\": \"irate\",\n",
        "    \"irdk\": \"i really don't know\",\n",
        "    \"irl\": \"in real life\",\n",
        "    \"iyo\": \"in your opinion\",\n",
        "    \"iyq\": \"i like you\",\n",
        "    \"j/k\": \"just kidding\",\n",
        "    \"j/p\": \"just playing\",\n",
        "    \"j/w\": \"just wondering\",\n",
        "    \"j2lyk\": \"just to let you know\",\n",
        "    \"j4f\": \"just for fun\",\n",
        "    \"j4g\": \"just for grins\",\n",
        "    \"jas\": \"just a second\",\n",
        "    \"jb/c\": \"just because\",\n",
        "    \"joshing\": \"joking\",\n",
        "    \"k\": \"ok\",\n",
        "    \"k3u\": \"i love you\",\n",
        "    \"kappa\": \"sarcasm\",\n",
        "    \"kek\": \"korean laugh\",\n",
        "    \"keke\": \"korean laugh\",\n",
        "    \"kewl\": \"cool\",\n",
        "    \"kewt\": \"cute\",\n",
        "    \"kfc\": \"kentucky fried chicken\",\n",
        "    \"kgo\": \"ok, go\",\n",
        "    \"kik\": \"laughing out loud\",\n",
        "    \"kinda\": \"kind of\",\n",
        "    \"kk\": \"ok\",\n",
        "    \"kl\": \"kool\",\n",
        "    \"km\": \"kiss me\",\n",
        "    \"kma\": \"kiss my ass\",\n",
        "    \"knp\": \"ok, no problem\",\n",
        "    \"kw\": \"know\",\n",
        "    \"kwl\": \"cool\",\n",
        "    \"l2m\": \"listening to music\",\n",
        "    \"l2p\": \"learn to play\",\n",
        "    \"l33t\": \"leet\",\n",
        "    \"l8\": \"late\",\n",
        "    \"l8er\": \"later\",\n",
        "    \"l8r\": \"later\",\n",
        "    \"la\": \"laughing a lot\",\n",
        "    \"laf\": \"laugh\",\n",
        "    \"laffing\": \"laughing\",\n",
        "    \"lafs\": \"love at first sight\",\n",
        "    \"lam\": \"leave a message\",\n",
        "    \"lamer\": \"lame person\",\n",
        "    \"legit\": \"legitimate\",\n",
        "    \"lemeno\": \"let me know\",\n",
        "    \"lil\": \"little\",\n",
        "    \"lk\": \"like\",\n",
        "    \"llol\": \"literally laughing out loud\",\n",
        "    \"lmho\": \"laughing my head off\",\n",
        "    \"loi\": \"laughing on the inside\",\n",
        "    \"lola\": \"love often, laugh a lot\",\n",
        "    \"lolol\": \"lots of laugh out louds\",\n",
        "    \"lolz\": \"laugh out louds\",\n",
        "    \"ltr\": \"later\",\n",
        "    \"lulz\": \"lol\",\n",
        "    \"luv\": \"love\",\n",
        "    \"luzr\": \"loser\",\n",
        "    \"lv\": \"love\",\n",
        "    \"ly\": \"love ya\",\n",
        "    \"lya\": \"love you always\",\n",
        "    \"lyk\": \"let you know\",\n",
        "    \"lyn\": \"lying\",\n",
        "    \"lysm\": \"love you so much\",\n",
        "    \"m\": \"male\",\n",
        "    \"mcd\": \"mcdonald's\",\n",
        "    \"mcds\": \"mcdonald's\",\n",
        "    \"md@u\": \"mad at you\",\n",
        "    \"me2\": \"me too\",\n",
        "    \"meh\": \"whatever\",\n",
        "    \"mf\": \"mother fucker\",\n",
        "    \"mfb\": \"mother fucking bitch\",\n",
        "    \"mgmt\": \"management\",\n",
        "    \"mid\": \"middle\",\n",
        "    \"mil\": \"mother-in-law\",\n",
        "    \"min\": \"minute\",\n",
        "    \"mins\": \"minutes\",\n",
        "    \"mk\": \"okay\",\n",
        "    \"mkay\": \"ok\",\n",
        "    \"mmk\": \"ok\",\n",
        "    \"mms\": \"multimedia messaging service\",\n",
        "    \"mng\": \"manage\",\n",
        "    \"mngr\": \"manager\",\n",
        "    \"mod\": \"modification\",\n",
        "    \"mofo\": \"mother fucking\",\n",
        "    \"mojo\": \"attractive talent\",\n",
        "    \"moss\": \"chill\",\n",
        "    \"ms\": \"miss\",\n",
        "    \"msg\": \"message\",\n",
        "    \"mtg\": \"meeting\",\n",
        "    \"mth\": \"month\",\n",
        "    \"mu\": \"miss you\",\n",
        "    \"mu@\": \"meet you at\",\n",
        "    \"muah\": \"kiss\",\n",
        "    \"mula\": \"money\",\n",
        "    \"mwa\": \"kiss\",\n",
        "    \"mwah\": \"kiss\",\n",
        "    \"n/m\": \"nevermind\",\n",
        "    \"n/m/h\": \"nothing much here\",\n",
        "    \"n/r\": \"no reserve\",\n",
        "    \"n00b\": \"newbie\",\n",
        "    \"n1\": \"nice one\",\n",
        "    \"n1c\": \"no one cares\",\n",
        "    \"n2m\": \"not too much\",\n",
        "    \"n2mh\": \"not too much here\",\n",
        "    \"n2w\": \"not to worry\",\n",
        "    \"n64\": \"nintendo 64\",\n",
        "    \"n8kd\": \"naked\",\n",
        "    \"nac\": \"not a chance\",\n",
        "    \"nah\": \"no\",\n",
        "    \"nal\": \"nationality\",\n",
        "    \"narc\": \"tattle tale\",\n",
        "    \"nark\": \"informant\",\n",
        "    \"naw\": \"no\",\n",
        "    \"nb\": \"not bad\",\n",
        "    \"nbd\": \"no big deal\",\n",
        "    \"nbjf\": \"no brag, just fact\",\n",
        "    \"nd\": \"and\",\n",
        "    \"ne\": \"any\",\n",
        "    \"ne1\": \"anyone\",\n",
        "    \"ne1er\": \"anyone here\",\n",
        "    \"neh\": \"no\",\n",
        "    \"nemore\": \"anymore\",\n",
        "    \"neva\": \"never\",\n",
        "    \"neway\": \"anyway\",\n",
        "    \"newaze\": \"anyways\",\n",
        "    \"newb\": \"newbie\",\n",
        "    \"nite\": \"night\",\n",
        "    \"nn2r\": \"no need to reply\",\n",
        "    \"nnito\": \"not necessarily in that order\",\n",
        "    \"nnto\": \"no need to open\",\n",
        "    \"nntr\": \"no need to reply\",\n",
        "    \"no1\": \"no one\",\n",
        "    \"noob\": \"newbie\",\n",
        "    \"nooblet\": \"young newbie\",\n",
        "    \"nooblord\": \"ultimate newbie\",\n",
        "    \"notch\": \"minecraft creator\",\n",
        "    \"nottie\": \"unattractive person\",\n",
        "    \"np\": \"no problem\",\n",
        "    \"nub\": \"newbie\",\n",
        "    \"nuff\": \"enough\",\n",
        "    \"nufn\": \"nothing\",\n",
        "    \"num\": \"tasty\",\n",
        "    \"nvm\": \"nevermind\",\n",
        "    \"nvr\": \"never\",\n",
        "    \"nvrm\": \"nevermind\",\n",
        "    \"nw\": \"no way\",\n",
        "    \"nxt\": \"next\",\n",
        "    \"o4u\": \"only for you\",\n",
        "    \"obtw\": \"oh, by the way\",\n",
        "    \"obv\": \"obviously\",\n",
        "    \"obvi\": \"obviously\",\n",
        "    \"oc\": \"of course\",\n",
        "    \"ohemgee\": \"oh my gosh\",\n",
        "    \"oic\": \"oh, i see\",\n",
        "    \"oicn\": \"oh, i see now\",\n",
        "    \"oiy\": \"hi\",\n",
        "    \"omg\": \"oh my god\",\n",
        "    \"onl\": \"online\",\n",
        "    \"onoz\": \"oh no\",\n",
        "    \"orly\": \"oh really\",\n",
        "    \"otay\": \"okay\",\n",
        "    \"otw\": \"on the way\",\n",
        "    \"outta\": \"out of\",\n",
        "    \"ovie\": \"overlord\",\n",
        "    \"ownage\": \"completely owned\",\n",
        "    \"p/d\": \"per day\",\n",
        "    \"p/m\": \"per month\",\n",
        "    \"p/y\": \"per year\",\n",
        "    \"p911\": \"parent alert!\",\n",
        "    \"p@h\": \"parents at home\",\n",
        "    \"pc\": \"personal computer\",\n",
        "    \"pda\": \"public display of affection\",\n",
        "    \"pic\": \"picture\",\n",
        "    \"pj\": \"poor joke\",\n",
        "    \"pl8\": \"plate\",\n",
        "    \"pld\": \"played\",\n",
        "    \"pls\": \"please\",\n",
        "    \"plz\": \"please\",\n",
        "    \"plzrd\": \"please read\",\n",
        "    \"pov\": \"point of view\",\n",
        "    \"ppl\": \"people\",\n",
        "    \"ppp\": \"peace\",\n",
        "    \"prof\": \"professor\",\n",
        "    \"prolly\": \"probably\",\n",
        "    \"promo\": \"promotion\",\n",
        "    \"props\": \"recognition\",\n",
        "    \"prot\": \"protection\",\n",
        "    \"prvt\": \"private\",\n",
        "    \"ps\": \"postscript\",\n",
        "    \"ps2\": \"playstation 2\",\n",
        "    \"ps3\": \"playstation 3\",\n",
        "    \"psa\": \"public service announcement\",\n",
        "    \"psog\": \"pure stroke of genius\",\n",
        "    \"psp\": \"playstation portable\",\n",
        "    \"ptm\": \"please tell me\",\n",
        "    \"pwd\": \"password\",\n",
        "    \"psd\": \"password\",\n",
        "    \"pswd\": \"password\",\n",
        "    \"pwnd\": \"owned\",\n",
        "    \"pwned\": \"owned\",\n",
        "    \"pwnt\": \"owned\",\n",
        "    \"q4u\": \"question for you\",\n",
        "    \"qfe\": \"quoted for emphasis\",\n",
        "    \"qft\": \"quoted for truth\",\n",
        "    \"qq\": \"quick question\",\n",
        "    \"qqn\": \"looking\",\n",
        "    \"qrg\": \"quick reference guide\",\n",
        "    \"qt\": \"cutie\",\n",
        "    \"qtpi\": \"cutie pie\",\n",
        "    \"r\": \"are\",\n",
        "    \"r8\": \"rate\",\n",
        "    \"rdy\": \"ready\",\n",
        "    \"re\": \"replay\",\n",
        "    \"rehi\": \"hi again\",\n",
        "    \"rents\": \"parents\",\n",
        "    \"rep\": \"reputation\",\n",
        "    \"resq\": \"rescue\",\n",
        "    \"rgd\": \"regard\",\n",
        "    \"rgds\": \"regards\",\n",
        "    \"ridic\": \"ridiculous\",\n",
        "    \"rip\": \"rest in peace\",\n",
        "    \"rl\": \"real life\",\n",
        "    \"rlrt\": \"real life retweet\",\n",
        "    \"rly\": \"really\",\n",
        "    \"rm\": \"room\",\n",
        "    \"rn\": \"run\",\n",
        "    \"rnt\": \"aren't\",\n",
        "    \"rof\": \"laughing\",\n",
        "    \"rofl\": \"laughing\",\n",
        "    \"roflmao\": \"laughing\",\n",
        "    \"roflol\": \"laughing out loud\",\n",
        "    \"rolf\": \"laughing\",\n",
        "    \"ru\": \"are you\",\n",
        "    \"ruc\": \"are you coming?\",\n",
        "    \"rut\": \"are you there?\",\n",
        "    \"rx\": \"prescription\",\n",
        "    \"s/o\": \"sold out\",\n",
        "    \"s/u\": \"shut up\",\n",
        "    \"s/w\": \"software\",\n",
        "    \"s2r\": \"send to receive\",\n",
        "    \"s2s\": \"sorry to say\",\n",
        "    \"s2u\": \"same to you\",\n",
        "    \"samzd\": \"still amazed\",\n",
        "    \"sd\": \"sweet dreams\",\n",
        "    \"sec\": \"second\",\n",
        "    \"sho\": \"sure\",\n",
        "    \"sh^\": \"shut up\",\n",
        "    \"siul8r\": \"see you later\",\n",
        "    \"siv\": \"bad goaltender\",\n",
        "    \"sk8\": \"skate\",\n",
        "    \"sk8r\": \"skater\",\n",
        "    \"sly\": \"still love you\",\n",
        "    \"smf\": \"so much fun\",\n",
        "    \"smooch\": \"kiss\",\n",
        "    \"sorta\": \"sort of\",\n",
        "    \"spec\": \"specialization\",\n",
        "    \"spk\": \"speak\",\n",
        "    \"spkr\": \"speaker\",\n",
        "    \"srry\": \"sorry\",\n",
        "    \"srs\": \"serious\",\n",
        "    \"srsly\": \"seriously\",\n",
        "    \"sry\": \"sorry\",\n",
        "    \"stpd\": \"stupid\",\n",
        "    \"str\": \"strength\",\n",
        "    \"str8\": \"straight\",\n",
        "    \"sup\": \"what's up\",\n",
        "    \"syl\": \"see you later\",\n",
        "    \"sync\": \"synchronize\",\n",
        "    \"t2go\": \"time to go\",\n",
        "    \"t2m\": \"talk to me\",\n",
        "    \"t2u\": \"talk to you\",\n",
        "    \"t2ul\": \"talk to you later\",\n",
        "    \"t2ul8er\": \"talk to you later\",\n",
        "    \"t2ul8r\": \"talk to you later\",\n",
        "    \"t4lmk\": \"thanks for letting me know\",\n",
        "    \"t4p\": \"thanks for posting\",\n",
        "    \"t4t\": \"thanks for trade\",\n",
        "    \"tc\": \"take care\",\n",
        "    \"teh\": \"the\",\n",
        "    \"teme\": \"tell me\",\n",
        "    \"tg\": \"thank goodness\",\n",
        "    \"thnq\": \"thank you\",\n",
        "    \"tho\": \"though\",\n",
        "    \"thru\": \"through\",\n",
        "    \"tht\": \"that\",\n",
        "    \"thx\": \"thanks\",\n",
        "    \"tl\": \"tell\",\n",
        "    \"tlk\": \"talk\",\n",
        "    \"tlkin\": \"talking\",\n",
        "    \"tlking\": \"talking\",\n",
        "    \"tomoz\": \"tomorrow\",\n",
        "    \"tq\": \"thank you\",\n",
        "    \"tqvm\": \"thank you very much\",\n",
        "    \"tru\": \"true\",\n",
        "    \"ttl\": \"talk to you later\",\n",
        "    \"ttly\": \"totally\",\n",
        "    \"ttul\": \"talk to you later\",\n",
        "    \"tty\": \"talk to you\",\n",
        "    \"tu\": \"thank you\",\n",
        "    \"tude\": \"attitude\",\n",
        "    \"tx\": \"thanks\",\n",
        "    \"txt\": \"text\",\n",
        "    \"txtin\": \"texting\",\n",
        "    \"ty\": \"thank you\",\n",
        "    \"tyfa\": \"thank you for asking\",\n",
        "    \"tyl\": \"thank you lord\",\n",
        "    \"tym\": \"thank you much\",\n",
        "    \"tyt\": \"take your time\",\n",
        "    \"tyvm\": \"thank you very much\",\n",
        "    \"u\": \"you\",\n",
        "    \"u-ok\": \"you ok?\",\n",
        "    \"u/l\": \"upload\",\n",
        "    \"u2\": \"you too\",\n",
        "    \"u2u\": \"up to you\",\n",
        "    \"uok\": \"you ok?\",\n",
        "    \"ur\": \"your\",\n",
        "    \"ut\": \"you there?\",\n",
        "    \"veggies\": \"vegetables\",\n",
        "    \"vry\": \"very\",\n",
        "    \"vs\": \"versus\",\n",
        "    \"w/\": \"with\",\n",
        "    \"w/b\": \"welcome back\",\n",
        "    \"w/e\": \"whatever\",\n",
        "    \"w/o\": \"without\",\n",
        "    \"w2f\": \"way too funny\",\n",
        "    \"w2g\": \"way to go\",\n",
        "    \"w2k\": \"windows 2000\",\n",
        "    \"w4u\": \"wait for you\",\n",
        "    \"w8\": \"wait\",\n",
        "    \"w84m\": \"wait for me\",\n",
        "    \"w8am\": \"wait a minute\",\n",
        "    \"w8ing\": \"waiting\",\n",
        "    \"w8n\": \"waiting\",\n",
        "    \"wa\": \"what\",\n",
        "    \"waa\": \"crying\",\n",
        "    \"wack\": \"strange\",\n",
        "    \"wan2\": \"want to\",\n",
        "    \"wannabe\": \"want to be\",\n",
        "    \"wat\": \"what\",\n",
        "    \"watev\": \"whatever\",\n",
        "    \"watevs\": \"whatever\",\n",
        "    \"wlcm\": \"welcome\",\n",
        "    \"wha\": \"what\",\n",
        "    \"whipped\": \"tired\",\n",
        "    \"wht\": \"what\",\n",
        "    \"wk\": \"week\",\n",
        "    \"wknd\": \"weekend\",\n",
        "    \"wtf\": \"what the fuck\",\n",
        "    \"wtg\": \"way to go\",\n",
        "    \"wup\": \"what's up?\",\n",
        "    \"ya\": \"yes\",\n",
        "    \"yeap\": \"yes\",\n",
        "    \"yep\": \"yes\",\n",
        "    \"yepperz\": \"yes\",\n",
        "    \"yesh\": \"yes\",\n",
        "    \"yo\": \"hi\",\n",
        "    \"yr\": \"your\",\n",
        "    \"yrs\": \"years\",\n",
        "    \"yt\": \"you there?\",\n",
        "    \"yt?\": \"you there?\",\n",
        "    \"yup\": \"yes\",\n",
        "    \"yupz\": \"ok\",\n",
        "    \"zzz\": \"sleeping\",\n",
        "}"
      ],
      "execution_count": 126,
      "outputs": []
    },
    {
      "cell_type": "code",
      "metadata": {
        "id": "Hit5PikoueRT"
      },
      "source": [
        "def slang_look_up(text):\n",
        "    \n",
        "    words = text.split()\n",
        "    new_text = []\n",
        "\n",
        "    for word in words:\n",
        "        word_s = word.lower()\n",
        "        if word_s in s_df:\n",
        "            new_text.append(s_df[word_s])\n",
        "        else:\n",
        "            new_text.append(word)\n",
        "    slanged = \" \".join(new_text)\n",
        "    return slanged\n",
        "df['slanged'] = df['removed_punc'].apply(lambda x: slang_look_up(x)) "
      ],
      "execution_count": 128,
      "outputs": []
    },
    {
      "cell_type": "code",
      "metadata": {
        "id": "AjVb5loJuhmd"
      },
      "source": [
        "df[\"rmv_hyperlinks\"] = df[\"slanged\"].str.replace(r's*https?://S+(s+|$)', ' ').str.strip()"
      ],
      "execution_count": 129,
      "outputs": []
    },
    {
      "cell_type": "code",
      "metadata": {
        "id": "liazw6oEul6Y"
      },
      "source": [
        "def remove_repeated_characters(text):\n",
        "   \n",
        "    regex_pattern = re.compile(r'(.)\\1+')\n",
        "    clean_text = regex_pattern.sub(r'\\1\\1', text)\n",
        "    return clean_text\n",
        "df['removed_reps'] = df['rmv_hyperlinks'].apply(lambda x: remove_repeated_characters(x))   "
      ],
      "execution_count": 130,
      "outputs": []
    },
    {
      "cell_type": "code",
      "metadata": {
        "id": "zDFSs_1Bup25"
      },
      "source": [
        "def remove_extra_space(text):\n",
        "    \n",
        "    clean_text = ' '.join(text.strip().split())\n",
        "    return clean_text\n",
        "df['rmv_extra_space'] = df['removed_reps'].apply(lambda x: remove_extra_space(x))    "
      ],
      "execution_count": 131,
      "outputs": []
    },
    {
      "cell_type": "code",
      "metadata": {
        "id": "RM7P549ousrY"
      },
      "source": [
        "df['rmv_digits'] = df['rmv_extra_space'].str.replace('\\d+', '',regex=True)"
      ],
      "execution_count": 132,
      "outputs": []
    },
    {
      "cell_type": "markdown",
      "metadata": {
        "id": "E6V8S7uc1JcT"
      },
      "source": [
        "# VADER"
      ]
    },
    {
      "cell_type": "code",
      "metadata": {
        "id": "XgXo-2Xs1IsF"
      },
      "source": [
        "sid = SentimentIntensityAnalyzer()\n",
        "df['scores'] = df['removed_punc'].apply(lambda x:sid.polarity_scores(x))"
      ],
      "execution_count": 133,
      "outputs": []
    },
    {
      "cell_type": "code",
      "metadata": {
        "id": "3AC1zNtb1RL1"
      },
      "source": [
        "df['compound'] = df['scores'].apply(lambda x:x['compound'])"
      ],
      "execution_count": 134,
      "outputs": []
    },
    {
      "cell_type": "code",
      "metadata": {
        "id": "n71Ehf1a1ai2"
      },
      "source": [
        "df['comp_score'] = df['compound'].apply(lambda score: '1' if score>=0 else '0')"
      ],
      "execution_count": 135,
      "outputs": []
    },
    {
      "cell_type": "code",
      "metadata": {
        "colab": {
          "base_uri": "https://localhost:8080/",
          "height": 554
        },
        "id": "1o6NtFWu1exq",
        "outputId": "54e7c03d-9740-4cc2-9be3-bf3742017e3b"
      },
      "source": [
        "df.head()"
      ],
      "execution_count": 136,
      "outputs": [
        {
          "output_type": "execute_result",
          "data": {
            "text/html": [
              "<div>\n",
              "<style scoped>\n",
              "    .dataframe tbody tr th:only-of-type {\n",
              "        vertical-align: middle;\n",
              "    }\n",
              "\n",
              "    .dataframe tbody tr th {\n",
              "        vertical-align: top;\n",
              "    }\n",
              "\n",
              "    .dataframe thead th {\n",
              "        text-align: right;\n",
              "    }\n",
              "</style>\n",
              "<table border=\"1\" class=\"dataframe\">\n",
              "  <thead>\n",
              "    <tr style=\"text-align: right;\">\n",
              "      <th></th>\n",
              "      <th>sentiment</th>\n",
              "      <th>text</th>\n",
              "      <th>removed_username</th>\n",
              "      <th>removed_punc</th>\n",
              "      <th>slanged</th>\n",
              "      <th>rmv_hyperlinks</th>\n",
              "      <th>removed_reps</th>\n",
              "      <th>rmv_extra_space</th>\n",
              "      <th>rmv_digits</th>\n",
              "      <th>scores</th>\n",
              "      <th>compound</th>\n",
              "      <th>comp_score</th>\n",
              "    </tr>\n",
              "  </thead>\n",
              "  <tbody>\n",
              "    <tr>\n",
              "      <th>1554072</th>\n",
              "      <td>1</td>\n",
              "      <td>prins9205just voted for @ddlovato @jonasbrothe...</td>\n",
              "      <td>prins9205just voted for   and for frankie! aww...</td>\n",
              "      <td>prins9205just voted for   and for frankie awww...</td>\n",
              "      <td>prins9205just voted for and for frankie awww i...</td>\n",
              "      <td>prins9205just voted for and for frankie awww i...</td>\n",
              "      <td>prins9205just voted for and for frankie aww i ...</td>\n",
              "      <td>prins9205just voted for and for frankie aww i ...</td>\n",
              "      <td>prinsjust voted for and for frankie aww i didn...</td>\n",
              "      <td>{'neg': 0.0, 'neu': 1.0, 'pos': 0.0, 'compound...</td>\n",
              "      <td>0.0000</td>\n",
              "      <td>1</td>\n",
              "    </tr>\n",
              "    <tr>\n",
              "      <th>1232880</th>\n",
              "      <td>1</td>\n",
              "      <td>a pheww, it's fine now</td>\n",
              "      <td>a pheww, it's fine now</td>\n",
              "      <td>a pheww its fine now</td>\n",
              "      <td>a pheww its fine now</td>\n",
              "      <td>a pheww its fine now</td>\n",
              "      <td>a pheww its fine now</td>\n",
              "      <td>a pheww its fine now</td>\n",
              "      <td>a pheww its fine now</td>\n",
              "      <td>{'neg': 0.0, 'neu': 0.625, 'pos': 0.375, 'comp...</td>\n",
              "      <td>0.2023</td>\n",
              "      <td>1</td>\n",
              "    </tr>\n",
              "    <tr>\n",
              "      <th>1167114</th>\n",
              "      <td>1</td>\n",
              "      <td>pampering myself before i have to suffer(kinda...</td>\n",
              "      <td>pampering myself before i have to suffer(kinda...</td>\n",
              "      <td>pampering myself before i have to sufferkinda ...</td>\n",
              "      <td>pampering myself before i have to sufferkinda ...</td>\n",
              "      <td>pampering myself before i have to sufferkinda ...</td>\n",
              "      <td>pampering myself before i have to sufferkinda ...</td>\n",
              "      <td>pampering myself before i have to sufferkinda ...</td>\n",
              "      <td>pampering myself before i have to sufferkinda ...</td>\n",
              "      <td>{'neg': 0.0, 'neu': 1.0, 'pos': 0.0, 'compound...</td>\n",
              "      <td>0.0000</td>\n",
              "      <td>1</td>\n",
              "    </tr>\n",
              "    <tr>\n",
              "      <th>1304252</th>\n",
              "      <td>1</td>\n",
              "      <td>lina is talking about her just-born cousin</td>\n",
              "      <td>lina is talking about her just-born cousin</td>\n",
              "      <td>lina is talking about her justborn cousin</td>\n",
              "      <td>lina is talking about her justborn cousin</td>\n",
              "      <td>lina is talking about her justborn cousin</td>\n",
              "      <td>lina is talking about her justborn cousin</td>\n",
              "      <td>lina is talking about her justborn cousin</td>\n",
              "      <td>lina is talking about her justborn cousin</td>\n",
              "      <td>{'neg': 0.0, 'neu': 1.0, 'pos': 0.0, 'compound...</td>\n",
              "      <td>0.0000</td>\n",
              "      <td>1</td>\n",
              "    </tr>\n",
              "    <tr>\n",
              "      <th>541595</th>\n",
              "      <td>0</td>\n",
              "      <td>my laptop is gone</td>\n",
              "      <td>my laptop is gone</td>\n",
              "      <td>my laptop is gone</td>\n",
              "      <td>my laptop is gone</td>\n",
              "      <td>my laptop is gone</td>\n",
              "      <td>my laptop is gone</td>\n",
              "      <td>my laptop is gone</td>\n",
              "      <td>my laptop is gone</td>\n",
              "      <td>{'neg': 0.0, 'neu': 1.0, 'pos': 0.0, 'compound...</td>\n",
              "      <td>0.0000</td>\n",
              "      <td>1</td>\n",
              "    </tr>\n",
              "  </tbody>\n",
              "</table>\n",
              "</div>"
            ],
            "text/plain": [
              "         sentiment  ... comp_score\n",
              "1554072          1  ...          1\n",
              "1232880          1  ...          1\n",
              "1167114          1  ...          1\n",
              "1304252          1  ...          1\n",
              "541595           0  ...          1\n",
              "\n",
              "[5 rows x 12 columns]"
            ]
          },
          "metadata": {},
          "execution_count": 136
        }
      ]
    },
    {
      "cell_type": "code",
      "metadata": {
        "id": "-Cvu0gjz1jU6"
      },
      "source": [
        "df['comp_score']=df['comp_score'].astype(str).astype(int)"
      ],
      "execution_count": 137,
      "outputs": []
    },
    {
      "cell_type": "code",
      "metadata": {
        "colab": {
          "base_uri": "https://localhost:8080/"
        },
        "id": "7VclNKPP1pZM",
        "outputId": "66323f1f-5029-41b9-d1f1-874ee886cc12"
      },
      "source": [
        "from sklearn.metrics import accuracy_score,classification_report,confusion_matrix\n",
        "accuracy_score(df['sentiment'],df['comp_score'])"
      ],
      "execution_count": 138,
      "outputs": [
        {
          "output_type": "execute_result",
          "data": {
            "text/plain": [
              "0.6619522887201804"
            ]
          },
          "metadata": {},
          "execution_count": 138
        }
      ]
    },
    {
      "cell_type": "code",
      "metadata": {
        "colab": {
          "base_uri": "https://localhost:8080/"
        },
        "id": "8E3GjjSo1ugq",
        "outputId": "d3050b4e-d900-4e09-87a6-df6b414bf7f3"
      },
      "source": [
        "print(confusion_matrix(df['sentiment'],df['comp_score']))"
      ],
      "execution_count": 139,
      "outputs": [
        {
          "output_type": "stream",
          "name": "stdout",
          "text": [
            "[[347373 452626]\n",
            " [ 88250 711750]]\n"
          ]
        }
      ]
    },
    {
      "cell_type": "markdown",
      "metadata": {
        "id": "G5ZwK-GH3JrC"
      },
      "source": [
        "# TOKENIZE, LEMMATIZE, STEMMING"
      ]
    },
    {
      "cell_type": "code",
      "metadata": {
        "colab": {
          "base_uri": "https://localhost:8080/"
        },
        "id": "sLtxwFR6uwJ6",
        "outputId": "3aecd69c-8bb1-44cc-ee6f-a2d19c67d79c"
      },
      "source": [
        "import nltk\n",
        "from nltk.tokenize import word_tokenize\n",
        "from nltk.stem.wordnet import WordNetLemmatizer\n",
        "from nltk.corpus import stopwords\n",
        "from nltk.stem import PorterStemmer\n",
        "nltk.download('punkt')\n",
        "nltk.download('stopwords')\n",
        "nltk.download('wordnet')\n",
        "\n",
        "#token texts\n",
        "df['tokenized_text'] = df['rmv_digits'].apply(word_tokenize) \n",
        "\n",
        "#remove stopword\n",
        "stop = stopwords.words('english')\n",
        "df['rmv_stopwords'] = df['tokenized_text'].apply(lambda x: [item for item in x if item not in stop])\n",
        "\n",
        "#word lemmatize\n",
        "def lemmatize(text):\n",
        "    lemmas = WordNetLemmatizer()\n",
        "    return [lemmas.lemmatize(word) for word in text]\n",
        "df['lemma_words'] = df['rmv_stopwords'].apply(lambda x : lemmatize(x))    \n",
        "\n",
        "#stemming words\n",
        "stemmer = PorterStemmer()\n",
        "df['stemmed'] = df['lemma_words'].apply(lambda x: [stemmer.stem(y) for y in x])"
      ],
      "execution_count": 140,
      "outputs": [
        {
          "output_type": "stream",
          "name": "stdout",
          "text": [
            "[nltk_data] Downloading package punkt to /root/nltk_data...\n",
            "[nltk_data]   Package punkt is already up-to-date!\n",
            "[nltk_data] Downloading package stopwords to /root/nltk_data...\n",
            "[nltk_data]   Package stopwords is already up-to-date!\n",
            "[nltk_data] Downloading package wordnet to /root/nltk_data...\n",
            "[nltk_data]   Package wordnet is already up-to-date!\n"
          ]
        }
      ]
    },
    {
      "cell_type": "code",
      "metadata": {
        "colab": {
          "base_uri": "https://localhost:8080/"
        },
        "id": "Ev0nrIbZwa0c",
        "outputId": "db851400-c8dc-479a-95e0-bba06d092ffd"
      },
      "source": [
        "df.info()"
      ],
      "execution_count": 141,
      "outputs": [
        {
          "output_type": "stream",
          "name": "stdout",
          "text": [
            "<class 'pandas.core.frame.DataFrame'>\n",
            "Int64Index: 1599999 entries, 1554072 to 1211499\n",
            "Data columns (total 16 columns):\n",
            " #   Column            Non-Null Count    Dtype  \n",
            "---  ------            --------------    -----  \n",
            " 0   sentiment         1599999 non-null  int64  \n",
            " 1   text              1599999 non-null  object \n",
            " 2   removed_username  1599999 non-null  object \n",
            " 3   removed_punc      1599999 non-null  object \n",
            " 4   slanged           1599999 non-null  object \n",
            " 5   rmv_hyperlinks    1599999 non-null  object \n",
            " 6   removed_reps      1599999 non-null  object \n",
            " 7   rmv_extra_space   1599999 non-null  object \n",
            " 8   rmv_digits        1599999 non-null  object \n",
            " 9   scores            1599999 non-null  object \n",
            " 10  compound          1599999 non-null  float64\n",
            " 11  comp_score        1599999 non-null  int64  \n",
            " 12  tokenized_text    1599999 non-null  object \n",
            " 13  rmv_stopwords     1599999 non-null  object \n",
            " 14  lemma_words       1599999 non-null  object \n",
            " 15  stemmed           1599999 non-null  object \n",
            "dtypes: float64(1), int64(2), object(13)\n",
            "memory usage: 207.5+ MB\n"
          ]
        }
      ]
    },
    {
      "cell_type": "code",
      "metadata": {
        "colab": {
          "base_uri": "https://localhost:8080/",
          "height": 595
        },
        "id": "PpdQks0WwdyJ",
        "outputId": "8ae47872-6119-4ebd-ea81-84358bea6c3b"
      },
      "source": [
        "df.drop(['removed_username','removed_punc','slanged','rmv_hyperlinks','removed_reps','rmv_extra_space','rmv_digits','tokenized_text','rmv_stopwords','lemma_words'],axis=1)"
      ],
      "execution_count": 142,
      "outputs": [
        {
          "output_type": "execute_result",
          "data": {
            "text/html": [
              "<div>\n",
              "<style scoped>\n",
              "    .dataframe tbody tr th:only-of-type {\n",
              "        vertical-align: middle;\n",
              "    }\n",
              "\n",
              "    .dataframe tbody tr th {\n",
              "        vertical-align: top;\n",
              "    }\n",
              "\n",
              "    .dataframe thead th {\n",
              "        text-align: right;\n",
              "    }\n",
              "</style>\n",
              "<table border=\"1\" class=\"dataframe\">\n",
              "  <thead>\n",
              "    <tr style=\"text-align: right;\">\n",
              "      <th></th>\n",
              "      <th>sentiment</th>\n",
              "      <th>text</th>\n",
              "      <th>scores</th>\n",
              "      <th>compound</th>\n",
              "      <th>comp_score</th>\n",
              "      <th>stemmed</th>\n",
              "    </tr>\n",
              "  </thead>\n",
              "  <tbody>\n",
              "    <tr>\n",
              "      <th>1554072</th>\n",
              "      <td>1</td>\n",
              "      <td>prins9205just voted for @ddlovato @jonasbrothe...</td>\n",
              "      <td>{'neg': 0.0, 'neu': 1.0, 'pos': 0.0, 'compound...</td>\n",
              "      <td>0.0000</td>\n",
              "      <td>1</td>\n",
              "      <td>[prinsjust, vote, franki, aww, didnt, know, no...</td>\n",
              "    </tr>\n",
              "    <tr>\n",
              "      <th>1232880</th>\n",
              "      <td>1</td>\n",
              "      <td>a pheww, it's fine now</td>\n",
              "      <td>{'neg': 0.0, 'neu': 0.625, 'pos': 0.375, 'comp...</td>\n",
              "      <td>0.2023</td>\n",
              "      <td>1</td>\n",
              "      <td>[pheww, fine]</td>\n",
              "    </tr>\n",
              "    <tr>\n",
              "      <th>1167114</th>\n",
              "      <td>1</td>\n",
              "      <td>pampering myself before i have to suffer(kinda...</td>\n",
              "      <td>{'neg': 0.0, 'neu': 1.0, 'pos': 0.0, 'compound...</td>\n",
              "      <td>0.0000</td>\n",
              "      <td>1</td>\n",
              "      <td>[pamper, sufferkinda, next, day]</td>\n",
              "    </tr>\n",
              "    <tr>\n",
              "      <th>1304252</th>\n",
              "      <td>1</td>\n",
              "      <td>lina is talking about her just-born cousin</td>\n",
              "      <td>{'neg': 0.0, 'neu': 1.0, 'pos': 0.0, 'compound...</td>\n",
              "      <td>0.0000</td>\n",
              "      <td>1</td>\n",
              "      <td>[lina, talk, justborn, cousin]</td>\n",
              "    </tr>\n",
              "    <tr>\n",
              "      <th>541595</th>\n",
              "      <td>0</td>\n",
              "      <td>my laptop is gone</td>\n",
              "      <td>{'neg': 0.0, 'neu': 1.0, 'pos': 0.0, 'compound...</td>\n",
              "      <td>0.0000</td>\n",
              "      <td>1</td>\n",
              "      <td>[laptop, gone]</td>\n",
              "    </tr>\n",
              "    <tr>\n",
              "      <th>...</th>\n",
              "      <td>...</td>\n",
              "      <td>...</td>\n",
              "      <td>...</td>\n",
              "      <td>...</td>\n",
              "      <td>...</td>\n",
              "      <td>...</td>\n",
              "    </tr>\n",
              "    <tr>\n",
              "      <th>568744</th>\n",
              "      <td>0</td>\n",
              "      <td>@missdevon it was definitely nice seein her an...</td>\n",
              "      <td>{'neg': 0.101, 'neu': 0.719, 'pos': 0.18, 'com...</td>\n",
              "      <td>0.3400</td>\n",
              "      <td>1</td>\n",
              "      <td>[definit, nice, seein, havin, sad, see, go, us...</td>\n",
              "    </tr>\n",
              "    <tr>\n",
              "      <th>1092100</th>\n",
              "      <td>1</td>\n",
              "      <td>awake and on the go already!!!  no sleep once ...</td>\n",
              "      <td>{'neg': 0.155, 'neu': 0.845, 'pos': 0.0, 'comp...</td>\n",
              "      <td>-0.2960</td>\n",
              "      <td>0</td>\n",
              "      <td>[awak, go, alreadi, sleep, againwelcom, life]</td>\n",
              "    </tr>\n",
              "    <tr>\n",
              "      <th>1109719</th>\n",
              "      <td>1</td>\n",
              "      <td>just woke up......work in a little bit -_- but...</td>\n",
              "      <td>{'neg': 0.0, 'neu': 0.712, 'pos': 0.288, 'comp...</td>\n",
              "      <td>0.6192</td>\n",
              "      <td>1</td>\n",
              "      <td>[woke, upwork, littl, bit, luckili, start, sch...</td>\n",
              "    </tr>\n",
              "    <tr>\n",
              "      <th>487176</th>\n",
              "      <td>0</td>\n",
              "      <td>sad ....school ended ..... and i miss it and a...</td>\n",
              "      <td>{'neg': 0.318, 'neu': 0.473, 'pos': 0.209, 'co...</td>\n",
              "      <td>-0.1531</td>\n",
              "      <td>0</td>\n",
              "      <td>[sad, school, end, miss, friend]</td>\n",
              "    </tr>\n",
              "    <tr>\n",
              "      <th>1211499</th>\n",
              "      <td>1</td>\n",
              "      <td>now kings of leon are playing use somebody</td>\n",
              "      <td>{'neg': 0.0, 'neu': 0.795, 'pos': 0.205, 'comp...</td>\n",
              "      <td>0.2023</td>\n",
              "      <td>1</td>\n",
              "      <td>[king, leon, play, use, somebodi]</td>\n",
              "    </tr>\n",
              "  </tbody>\n",
              "</table>\n",
              "<p>1599999 rows × 6 columns</p>\n",
              "</div>"
            ],
            "text/plain": [
              "         sentiment  ...                                            stemmed\n",
              "1554072          1  ...  [prinsjust, vote, franki, aww, didnt, know, no...\n",
              "1232880          1  ...                                      [pheww, fine]\n",
              "1167114          1  ...                   [pamper, sufferkinda, next, day]\n",
              "1304252          1  ...                     [lina, talk, justborn, cousin]\n",
              "541595           0  ...                                     [laptop, gone]\n",
              "...            ...  ...                                                ...\n",
              "568744           0  ...  [definit, nice, seein, havin, sad, see, go, us...\n",
              "1092100          1  ...      [awak, go, alreadi, sleep, againwelcom, life]\n",
              "1109719          1  ...  [woke, upwork, littl, bit, luckili, start, sch...\n",
              "487176           0  ...                   [sad, school, end, miss, friend]\n",
              "1211499          1  ...                  [king, leon, play, use, somebodi]\n",
              "\n",
              "[1599999 rows x 6 columns]"
            ]
          },
          "metadata": {},
          "execution_count": 142
        }
      ]
    },
    {
      "cell_type": "code",
      "metadata": {
        "id": "O5wZDgs6wp93"
      },
      "source": [
        "import gensim\n",
        "from gensim.models import word2vec\n",
        "epochs=40\n",
        "w2vmodel_stemmed = gensim.models.Word2Vec(window=15, min_count=2, workers=4,iter=epochs)\n",
        "w2vmodel_stemmed.build_vocab(df['stemmed'],progress_per=1000)"
      ],
      "execution_count": 143,
      "outputs": []
    },
    {
      "cell_type": "code",
      "metadata": {
        "colab": {
          "base_uri": "https://localhost:8080/"
        },
        "id": "I1Jk0wWdwuop",
        "outputId": "0e173633-5343-457e-c277-38acb199ec3d"
      },
      "source": [
        "w2vmodel_stemmed.corpus_count"
      ],
      "execution_count": 144,
      "outputs": [
        {
          "output_type": "execute_result",
          "data": {
            "text/plain": [
              "1599999"
            ]
          },
          "metadata": {},
          "execution_count": 144
        }
      ]
    },
    {
      "cell_type": "code",
      "metadata": {
        "colab": {
          "base_uri": "https://localhost:8080/"
        },
        "id": "GfnXTSJqwy1Y",
        "outputId": "1c2adcee-3d28-4376-f057-503dabb422a9"
      },
      "source": [
        "w2vmodel_stemmed.train(df['stemmed'],total_examples=w2vmodel_stemmed.corpus_count, epochs=w2vmodel_stemmed.epochs)"
      ],
      "execution_count": 145,
      "outputs": [
        {
          "output_type": "execute_result",
          "data": {
            "text/plain": [
              "(405866742, 460101360)"
            ]
          },
          "metadata": {},
          "execution_count": 145
        }
      ]
    },
    {
      "cell_type": "code",
      "metadata": {
        "colab": {
          "base_uri": "https://localhost:8080/"
        },
        "id": "jjoiyVD7xdVy",
        "outputId": "aede1400-e9d7-4a78-89b2-6416203ee4bd"
      },
      "source": [
        "w2vmodel_stemmed.wv.most_similar(\"nice\")"
      ],
      "execution_count": 152,
      "outputs": [
        {
          "output_type": "execute_result",
          "data": {
            "text/plain": [
              "[('great', 0.7056237459182739),\n",
              " ('cool', 0.6346191167831421),\n",
              " ('fabul', 0.6317301988601685),\n",
              " ('fantast', 0.605168342590332),\n",
              " ('perfect', 0.5971065759658813),\n",
              " ('good', 0.5797423124313354),\n",
              " ('enjoy', 0.5791504383087158),\n",
              " ('excel', 0.5734377503395081),\n",
              " ('pleasant', 0.5539470911026001),\n",
              " ('wonder', 0.5421377420425415)]"
            ]
          },
          "metadata": {},
          "execution_count": 152
        }
      ]
    },
    {
      "cell_type": "code",
      "metadata": {
        "colab": {
          "base_uri": "https://localhost:8080/"
        },
        "id": "N_WxslxHxiyh",
        "outputId": "ad15f662-da87-4f61-dce6-5416b1b453c0"
      },
      "source": [
        "w2vmodel_stemmed.wv.similarity('happy', 'sad')"
      ],
      "execution_count": 153,
      "outputs": [
        {
          "output_type": "execute_result",
          "data": {
            "text/plain": [
              "0.2194738"
            ]
          },
          "metadata": {},
          "execution_count": 153
        }
      ]
    }
  ]
}